{
 "cells": [
  {
   "cell_type": "code",
   "execution_count": 1,
   "id": "5139c2fc-08d2-49f7-bb08-d6b840220dd7",
   "metadata": {},
   "outputs": [],
   "source": [
    "from scipy import stats\n",
    "import numpy as np\n",
    "import seaborn as sns\n",
    "import pandas as pd\n",
    "from matplotlib import pyplot as plt"
   ]
  },
  {
   "cell_type": "markdown",
   "id": "2aea561a-fcd2-4976-8724-57d96edd5e04",
   "metadata": {},
   "source": [
    "#### The hourly wages in a particular industry are normally distributed with mean  13.20 and standard deviation  2.50. A company in this industry employs 40 workers, paying them an average of $12.20 per hour. Can this company be accused of paying substandard wages? Use an α = .01 level test. (Wackerly, Ex.10.18)\n"
   ]
  },
  {
   "cell_type": "code",
   "execution_count": 2,
   "id": "4bb7bf0b-7043-411f-865d-7994c4ca8a43",
   "metadata": {},
   "outputs": [],
   "source": [
    "# H0:mu = 13.20\n",
    "# H1:mu < 13.20"
   ]
  },
  {
   "cell_type": "code",
   "execution_count": 3,
   "id": "0dd43eef-96f6-4014-ab67-b81c91ae5446",
   "metadata": {},
   "outputs": [],
   "source": [
    "alpha =0.01\n",
    "xbar = 12.20\n",
    "mu = 13.20\n",
    "sigma = 2.50\n",
    "n = 40\n",
    "zstat = (xbar-mu)/(sigma/np.sqrt(n))\n",
    "pvalue = stats.norm.cdf(zstat)"
   ]
  },
  {
   "cell_type": "code",
   "execution_count": 4,
   "id": "0959600b-a2ee-4ffe-88f2-8369627137d9",
   "metadata": {},
   "outputs": [
    {
     "data": {
      "text/plain": [
       "(-2.5298221281347035, 0.005706018193000826)"
      ]
     },
     "execution_count": 4,
     "metadata": {},
     "output_type": "execute_result"
    }
   ],
   "source": [
    "zstat,pvalue"
   ]
  },
  {
   "cell_type": "code",
   "execution_count": 5,
   "id": "fb700dda-99d9-47a6-bffb-4e23edf25542",
   "metadata": {},
   "outputs": [
    {
     "name": "stdout",
     "output_type": "stream",
     "text": [
      "H0 is rejected\n"
     ]
    }
   ],
   "source": [
    "if pvalue>alpha : print(\"H0 can not be rejected\")\n",
    "else:print(\"H0 is rejected\")"
   ]
  },
  {
   "cell_type": "markdown",
   "id": "102a77b0-1e91-4ef4-9324-4afc71c1dba9",
   "metadata": {
    "tags": []
   },
   "source": [
    "#### Company can be acussed of paying substandart wages"
   ]
  },
  {
   "cell_type": "markdown",
   "id": "cb6d5265-ad08-4077-87bd-17fb829c67dc",
   "metadata": {},
   "source": [
    "##### *******************************************************************************************************************************************"
   ]
  },
  {
   "cell_type": "markdown",
   "id": "347f351d-0e10-4a1c-b784-d93929790c6e",
   "metadata": {},
   "source": [
    "#### Shear strength measurements derived from unconfined compression tests for two types of soils gave the results shown in the following document (measurements in tons per square foot). Do the soils appear to differ with respect to average shear strength, at the 1% significance level?"
   ]
  },
  {
   "cell_type": "code",
   "execution_count": 6,
   "id": "b2281c63-b37f-4869-a843-fc9f12480fdd",
   "metadata": {},
   "outputs": [],
   "source": [
    "# H0: mu_soli1 = mu_soli2\n",
    "# H1: mu_soli1 != mu_soli2"
   ]
  },
  {
   "cell_type": "code",
   "execution_count": 7,
   "id": "a2a73841-4bef-4621-a0e6-a081885b095d",
   "metadata": {},
   "outputs": [],
   "source": [
    "soil = pd.read_excel(\"soil.xlsx\")"
   ]
  },
  {
   "cell_type": "code",
   "execution_count": 8,
   "id": "588f47cd-fb72-459f-aebf-52a8e936c107",
   "metadata": {},
   "outputs": [
    {
     "data": {
      "text/html": [
       "<div>\n",
       "<style scoped>\n",
       "    .dataframe tbody tr th:only-of-type {\n",
       "        vertical-align: middle;\n",
       "    }\n",
       "\n",
       "    .dataframe tbody tr th {\n",
       "        vertical-align: top;\n",
       "    }\n",
       "\n",
       "    .dataframe thead th {\n",
       "        text-align: right;\n",
       "    }\n",
       "</style>\n",
       "<table border=\"1\" class=\"dataframe\">\n",
       "  <thead>\n",
       "    <tr style=\"text-align: right;\">\n",
       "      <th></th>\n",
       "      <th>Soil1</th>\n",
       "      <th>Soil2</th>\n",
       "    </tr>\n",
       "  </thead>\n",
       "  <tbody>\n",
       "    <tr>\n",
       "      <th>0</th>\n",
       "      <td>1.442</td>\n",
       "      <td>1.364</td>\n",
       "    </tr>\n",
       "    <tr>\n",
       "      <th>1</th>\n",
       "      <td>1.943</td>\n",
       "      <td>1.878</td>\n",
       "    </tr>\n",
       "    <tr>\n",
       "      <th>2</th>\n",
       "      <td>1.110</td>\n",
       "      <td>1.337</td>\n",
       "    </tr>\n",
       "    <tr>\n",
       "      <th>3</th>\n",
       "      <td>1.912</td>\n",
       "      <td>1.828</td>\n",
       "    </tr>\n",
       "    <tr>\n",
       "      <th>4</th>\n",
       "      <td>1.553</td>\n",
       "      <td>1.371</td>\n",
       "    </tr>\n",
       "  </tbody>\n",
       "</table>\n",
       "</div>"
      ],
      "text/plain": [
       "   Soil1  Soil2\n",
       "0  1.442  1.364\n",
       "1  1.943  1.878\n",
       "2  1.110  1.337\n",
       "3  1.912  1.828\n",
       "4  1.553  1.371"
      ]
     },
     "execution_count": 8,
     "metadata": {},
     "output_type": "execute_result"
    }
   ],
   "source": [
    "soil.head()"
   ]
  },
  {
   "cell_type": "code",
   "execution_count": 9,
   "id": "8ec995b0-8bad-4c9d-8942-dca4d2153858",
   "metadata": {},
   "outputs": [
    {
     "data": {
      "text/html": [
       "<div>\n",
       "<style scoped>\n",
       "    .dataframe tbody tr th:only-of-type {\n",
       "        vertical-align: middle;\n",
       "    }\n",
       "\n",
       "    .dataframe tbody tr th {\n",
       "        vertical-align: top;\n",
       "    }\n",
       "\n",
       "    .dataframe thead th {\n",
       "        text-align: right;\n",
       "    }\n",
       "</style>\n",
       "<table border=\"1\" class=\"dataframe\">\n",
       "  <thead>\n",
       "    <tr style=\"text-align: right;\">\n",
       "      <th></th>\n",
       "      <th>count</th>\n",
       "      <th>mean</th>\n",
       "      <th>std</th>\n",
       "      <th>min</th>\n",
       "      <th>25%</th>\n",
       "      <th>50%</th>\n",
       "      <th>75%</th>\n",
       "      <th>max</th>\n",
       "    </tr>\n",
       "  </thead>\n",
       "  <tbody>\n",
       "    <tr>\n",
       "      <th>Soil1</th>\n",
       "      <td>30.0</td>\n",
       "      <td>1.691800</td>\n",
       "      <td>0.206903</td>\n",
       "      <td>1.110</td>\n",
       "      <td>1.572</td>\n",
       "      <td>1.675</td>\n",
       "      <td>1.86525</td>\n",
       "      <td>2.054</td>\n",
       "    </tr>\n",
       "    <tr>\n",
       "      <th>Soil2</th>\n",
       "      <td>35.0</td>\n",
       "      <td>1.417114</td>\n",
       "      <td>0.219184</td>\n",
       "      <td>1.053</td>\n",
       "      <td>1.231</td>\n",
       "      <td>1.379</td>\n",
       "      <td>1.55900</td>\n",
       "      <td>1.878</td>\n",
       "    </tr>\n",
       "  </tbody>\n",
       "</table>\n",
       "</div>"
      ],
      "text/plain": [
       "       count      mean       std    min    25%    50%      75%    max\n",
       "Soil1   30.0  1.691800  0.206903  1.110  1.572  1.675  1.86525  2.054\n",
       "Soil2   35.0  1.417114  0.219184  1.053  1.231  1.379  1.55900  1.878"
      ]
     },
     "execution_count": 9,
     "metadata": {},
     "output_type": "execute_result"
    }
   ],
   "source": [
    "soil.describe().T"
   ]
  },
  {
   "cell_type": "code",
   "execution_count": 10,
   "id": "b1bab02e-d116-45ca-8545-103f3a5577a1",
   "metadata": {},
   "outputs": [
    {
     "data": {
      "text/plain": [
       "Soil1    5\n",
       "Soil2    0\n",
       "dtype: int64"
      ]
     },
     "execution_count": 10,
     "metadata": {},
     "output_type": "execute_result"
    }
   ],
   "source": [
    "soil.isnull().sum()"
   ]
  },
  {
   "cell_type": "code",
   "execution_count": 11,
   "id": "e8aa49a2-6277-4f66-a579-37261fd930bf",
   "metadata": {},
   "outputs": [
    {
     "data": {
      "text/plain": [
       "Ttest_indResult(statistic=5.086659903313431, pvalue=3.7318047944382767e-06)"
      ]
     },
     "execution_count": 11,
     "metadata": {},
     "output_type": "execute_result"
    }
   ],
   "source": [
    "stats.ttest_ind_from_stats(mean1 = soil[soil[\"Soil1\"].notnull()][\"Soil1\"].mean(),\n",
    "                           mean2 = soil[\"Soil2\"].mean(),\n",
    "                           nobs1=29,\n",
    "                           nobs2= 34,\n",
    "                           std1=soil[soil[\"Soil1\"].notnull()][\"Soil1\"].std(),\n",
    "                           std2=soil[\"Soil2\"].std(),\n",
    "                           alternative=\"two-sided\")"
   ]
  },
  {
   "cell_type": "code",
   "execution_count": 12,
   "id": "2c789456-a4f4-4664-a4e4-31be9b2ac09f",
   "metadata": {},
   "outputs": [
    {
     "data": {
      "text/plain": [
       "Ttest_indResult(statistic=5.1681473319343345, pvalue=2.59322873235282e-06)"
      ]
     },
     "execution_count": 12,
     "metadata": {},
     "output_type": "execute_result"
    }
   ],
   "source": [
    "Indtest = stats.ttest_ind(a=soil[\"Soil1\"],b=soil[\"Soil2\"],nan_policy=\"omit\",alternative=\"two-sided\")\n",
    "Indtest"
   ]
  },
  {
   "cell_type": "code",
   "execution_count": 13,
   "id": "890e4b65-2e84-40e5-8f72-a9af840b05cb",
   "metadata": {},
   "outputs": [],
   "source": [
    "tstat, pvalue= Indtest[0],Indtest[1]"
   ]
  },
  {
   "cell_type": "code",
   "execution_count": 14,
   "id": "e6f9ad3c-bc16-480a-9981-10b03f13b172",
   "metadata": {},
   "outputs": [
    {
     "name": "stdout",
     "output_type": "stream",
     "text": [
      "H0 is rejected\n"
     ]
    }
   ],
   "source": [
    "if pvalue>alpha : print(\"H0 can not be rejected\")\n",
    "else:print(\"H0 is rejected\")"
   ]
  },
  {
   "cell_type": "markdown",
   "id": "ea0b399e-b426-4ceb-9334-6265af0b6498",
   "metadata": {},
   "source": [
    "#### Soils appear to differ with respect to average shear strength, at the 1% significance level"
   ]
  },
  {
   "cell_type": "markdown",
   "id": "d45fd0cf-7895-4d54-a966-4d3e152809cd",
   "metadata": {},
   "source": [
    "##### *******************************************************************************************************************************************"
   ]
  },
  {
   "cell_type": "markdown",
   "id": "da599952-9f8f-4df6-b565-dc8687bc72fe",
   "metadata": {},
   "source": [
    "#### The following dataset is based on data provided by the World Bank (https://datacatalog.worldbank.org/dataset/education-statistics). World Bank Edstats.  2015 PISA Test Dataset\n",
    "#### Get descriptive statistics (the central tendency, dispersion and shape of a dataset’s distribution) for each continent group (AS, EU, AF, NA, SA, OC).\n",
    "#### Determine whether there is any difference (on the average) for the math scores among European (EU) and Asian (AS) countries (assume normality and equal variances). Draw side-by-side box plots."
   ]
  },
  {
   "cell_type": "code",
   "execution_count": 15,
   "id": "d50fdf72-aaf4-4590-a413-26b335c6a944",
   "metadata": {},
   "outputs": [],
   "source": [
    "# H0:Asianmath_mu = Europeanmath_mu \n",
    "# H0:Asianmath_mu != Europeanmath_mu"
   ]
  },
  {
   "cell_type": "code",
   "execution_count": 16,
   "id": "bf65bbd5-87b0-4b16-a748-c526378c6c55",
   "metadata": {},
   "outputs": [],
   "source": [
    "pisa = pd.read_excel(\"2015 PISA Test.xlsx\")"
   ]
  },
  {
   "cell_type": "code",
   "execution_count": 17,
   "id": "0ec6f4bb-0383-44d1-8706-49841e03848b",
   "metadata": {},
   "outputs": [
    {
     "data": {
      "text/html": [
       "<div>\n",
       "<style scoped>\n",
       "    .dataframe tbody tr th:only-of-type {\n",
       "        vertical-align: middle;\n",
       "    }\n",
       "\n",
       "    .dataframe tbody tr th {\n",
       "        vertical-align: top;\n",
       "    }\n",
       "\n",
       "    .dataframe thead th {\n",
       "        text-align: right;\n",
       "    }\n",
       "</style>\n",
       "<table border=\"1\" class=\"dataframe\">\n",
       "  <thead>\n",
       "    <tr style=\"text-align: right;\">\n",
       "      <th></th>\n",
       "      <th>Country Code</th>\n",
       "      <th>Continent_Code</th>\n",
       "      <th>internet_users_per_100</th>\n",
       "      <th>Math</th>\n",
       "      <th>Reading</th>\n",
       "      <th>Science</th>\n",
       "    </tr>\n",
       "  </thead>\n",
       "  <tbody>\n",
       "    <tr>\n",
       "      <th>0</th>\n",
       "      <td>ALB</td>\n",
       "      <td>EU</td>\n",
       "      <td>63.252933</td>\n",
       "      <td>413.1570</td>\n",
       "      <td>405.2588</td>\n",
       "      <td>427.2250</td>\n",
       "    </tr>\n",
       "    <tr>\n",
       "      <th>1</th>\n",
       "      <td>ARE</td>\n",
       "      <td>AS</td>\n",
       "      <td>90.500000</td>\n",
       "      <td>427.4827</td>\n",
       "      <td>433.5423</td>\n",
       "      <td>436.7311</td>\n",
       "    </tr>\n",
       "    <tr>\n",
       "      <th>2</th>\n",
       "      <td>ARG</td>\n",
       "      <td>SA</td>\n",
       "      <td>68.043064</td>\n",
       "      <td>409.0333</td>\n",
       "      <td>425.3031</td>\n",
       "      <td>432.2262</td>\n",
       "    </tr>\n",
       "    <tr>\n",
       "      <th>3</th>\n",
       "      <td>AUS</td>\n",
       "      <td>OC</td>\n",
       "      <td>84.560519</td>\n",
       "      <td>493.8962</td>\n",
       "      <td>502.9006</td>\n",
       "      <td>509.9939</td>\n",
       "    </tr>\n",
       "    <tr>\n",
       "      <th>4</th>\n",
       "      <td>AUT</td>\n",
       "      <td>EU</td>\n",
       "      <td>83.940142</td>\n",
       "      <td>496.7423</td>\n",
       "      <td>484.8656</td>\n",
       "      <td>495.0375</td>\n",
       "    </tr>\n",
       "  </tbody>\n",
       "</table>\n",
       "</div>"
      ],
      "text/plain": [
       "  Country Code Continent_Code  internet_users_per_100      Math   Reading  \\\n",
       "0          ALB             EU               63.252933  413.1570  405.2588   \n",
       "1          ARE             AS               90.500000  427.4827  433.5423   \n",
       "2          ARG             SA               68.043064  409.0333  425.3031   \n",
       "3          AUS             OC               84.560519  493.8962  502.9006   \n",
       "4          AUT             EU               83.940142  496.7423  484.8656   \n",
       "\n",
       "    Science  \n",
       "0  427.2250  \n",
       "1  436.7311  \n",
       "2  432.2262  \n",
       "3  509.9939  \n",
       "4  495.0375  "
      ]
     },
     "execution_count": 17,
     "metadata": {},
     "output_type": "execute_result"
    }
   ],
   "source": [
    "pisa.head()"
   ]
  },
  {
   "cell_type": "code",
   "execution_count": 18,
   "id": "1489462c-835f-45e3-b932-fdcf12e9ef48",
   "metadata": {},
   "outputs": [
    {
     "name": "stdout",
     "output_type": "stream",
     "text": [
      "<class 'pandas.core.frame.DataFrame'>\n",
      "RangeIndex: 70 entries, 0 to 69\n",
      "Data columns (total 6 columns):\n",
      " #   Column                  Non-Null Count  Dtype  \n",
      "---  ------                  --------------  -----  \n",
      " 0   Country Code            70 non-null     object \n",
      " 1   Continent_Code          65 non-null     object \n",
      " 2   internet_users_per_100  70 non-null     float64\n",
      " 3   Math                    70 non-null     float64\n",
      " 4   Reading                 70 non-null     float64\n",
      " 5   Science                 70 non-null     float64\n",
      "dtypes: float64(4), object(2)\n",
      "memory usage: 3.4+ KB\n"
     ]
    }
   ],
   "source": [
    "pisa.info()"
   ]
  },
  {
   "cell_type": "code",
   "execution_count": 19,
   "id": "264c8db4-d433-48d3-8cff-e0f695e9dc03",
   "metadata": {},
   "outputs": [
    {
     "data": {
      "text/plain": [
       "Country Code              0\n",
       "Continent_Code            5\n",
       "internet_users_per_100    0\n",
       "Math                      0\n",
       "Reading                   0\n",
       "Science                   0\n",
       "dtype: int64"
      ]
     },
     "execution_count": 19,
     "metadata": {},
     "output_type": "execute_result"
    }
   ],
   "source": [
    "pisa.isnull().sum()"
   ]
  },
  {
   "cell_type": "code",
   "execution_count": 20,
   "id": "2213859e-4d0a-46c8-82d9-4cc281778cb3",
   "metadata": {},
   "outputs": [],
   "source": [
    "#pisa.dropna(subset = \"Continent_Code\",axis = 0,how = \"all\",inplace=True)......if we need to drop nan rows in Continent_Code feature"
   ]
  },
  {
   "cell_type": "code",
   "execution_count": 21,
   "id": "677c2366-60bf-4264-b930-aba50d453ce3",
   "metadata": {},
   "outputs": [
    {
     "name": "stdout",
     "output_type": "stream",
     "text": [
      "****************************** EU ******************************\n",
      "       internet_users_per_100        Math     Reading     Science\n",
      "count               37.000000   37.000000   37.000000   37.000000\n",
      "mean                77.274888  477.981449  476.164608  478.299381\n",
      "std                 12.425773   35.150403   37.720545   34.450616\n",
      "min                 53.744979  371.311400  351.741500  383.682400\n",
      "25%                 68.632900  464.040100  452.514300  460.774900\n",
      "50%                 76.184000  489.728700  487.250100  490.225000\n",
      "75%                 87.479056  503.722000  499.814600  501.936900\n",
      "max                 98.200000  521.250600  526.424700  534.193700\n",
      "\n",
      "\n",
      "****************************** AS ******************************\n",
      "       internet_users_per_100        Math     Reading     Science\n",
      "count               17.000000   17.000000   17.000000   17.000000\n",
      "mean                68.455613  466.216647  454.059682  467.945847\n",
      "std                 21.086060   64.356490   57.048962   56.671371\n",
      "min                 21.976068  380.259000  346.549000  386.485400\n",
      "25%                 50.300000  403.833200  408.102200  417.611200\n",
      "50%                 74.000000  459.816000  433.542300  456.483600\n",
      "75%                 84.948353  531.296100  508.690500  523.277400\n",
      "max                 92.884826  564.189700  535.100200  555.574700\n",
      "\n",
      "\n",
      "****************************** SA ******************************\n",
      "       internet_users_per_100        Math     Reading     Science\n",
      "count                7.000000    7.000000    7.000000    7.000000\n",
      "mean                60.180494  402.887700  425.359229  421.747186\n",
      "std                  9.772455   18.128894   19.709688   18.470319\n",
      "min                 40.900000  377.069500  397.541400  396.683600\n",
      "25%                 57.116462  388.102200  416.126900  408.205450\n",
      "50%                 64.289000  409.033300  425.303100  424.590500\n",
      "75%                 66.321532  417.617650  431.922700  433.794600\n",
      "max                 69.198471  422.671400  458.570900  446.956100\n",
      "\n",
      "\n",
      "****************************** OC ******************************\n",
      "       internet_users_per_100        Math     Reading     Science\n",
      "count                2.000000    2.000000    2.000000    2.000000\n",
      "mean                86.391704  494.559750  506.085650  511.648700\n",
      "std                  2.589686    0.938401    4.504341    2.340241\n",
      "min                 84.560519  493.896200  502.900600  509.993900\n",
      "25%                 85.476112  494.227975  504.493125  510.821300\n",
      "50%                 86.391704  494.559750  506.085650  511.648700\n",
      "75%                 87.307296  494.891525  507.678175  512.476100\n",
      "max                 88.222889  495.223300  509.270700  513.303500\n",
      "\n",
      "\n",
      "****************************** AF ******************************\n",
      "       internet_users_per_100        Math     Reading     Science\n",
      "count                2.000000    2.000000    2.000000    2.000000\n",
      "mean                43.359918  363.212100  355.457400  381.074250\n",
      "std                  7.297226    5.099513    7.916909    7.536556\n",
      "min                 38.200000  359.606200  349.859300  375.745100\n",
      "25%                 40.779959  361.409150  352.658350  378.409675\n",
      "50%                 43.359918  363.212100  355.457400  381.074250\n",
      "75%                 45.939877  365.015050  358.256450  383.738825\n",
      "max                 48.519836  366.818000  361.055500  386.403400\n",
      "\n",
      "\n"
     ]
    }
   ],
   "source": [
    "for i in pisa.Continent_Code.value_counts().index:\n",
    "    print(\"*\"*30,i,\"*\"*30)\n",
    "    print(pisa[pisa[\"Continent_Code\"] == i].describe())\n",
    "    print(\"\\n\")"
   ]
  },
  {
   "cell_type": "code",
   "execution_count": 22,
   "id": "fea0af1b-088d-42cb-aeef-cbe3e73a84f7",
   "metadata": {},
   "outputs": [
    {
     "data": {
      "text/html": [
       "<div>\n",
       "<style scoped>\n",
       "    .dataframe tbody tr th:only-of-type {\n",
       "        vertical-align: middle;\n",
       "    }\n",
       "\n",
       "    .dataframe tbody tr th {\n",
       "        vertical-align: top;\n",
       "    }\n",
       "\n",
       "    .dataframe thead th {\n",
       "        text-align: right;\n",
       "    }\n",
       "</style>\n",
       "<table border=\"1\" class=\"dataframe\">\n",
       "  <thead>\n",
       "    <tr style=\"text-align: right;\">\n",
       "      <th></th>\n",
       "      <th>Math</th>\n",
       "      <th>Continent_Code</th>\n",
       "    </tr>\n",
       "  </thead>\n",
       "  <tbody>\n",
       "    <tr>\n",
       "      <th>0</th>\n",
       "      <td>413.1570</td>\n",
       "      <td>EU</td>\n",
       "    </tr>\n",
       "    <tr>\n",
       "      <th>1</th>\n",
       "      <td>427.4827</td>\n",
       "      <td>AS</td>\n",
       "    </tr>\n",
       "    <tr>\n",
       "      <th>4</th>\n",
       "      <td>496.7423</td>\n",
       "      <td>EU</td>\n",
       "    </tr>\n",
       "    <tr>\n",
       "      <th>5</th>\n",
       "      <td>506.9844</td>\n",
       "      <td>EU</td>\n",
       "    </tr>\n",
       "    <tr>\n",
       "      <th>6</th>\n",
       "      <td>441.1899</td>\n",
       "      <td>EU</td>\n",
       "    </tr>\n",
       "  </tbody>\n",
       "</table>\n",
       "</div>"
      ],
      "text/plain": [
       "       Math Continent_Code\n",
       "0  413.1570             EU\n",
       "1  427.4827             AS\n",
       "4  496.7423             EU\n",
       "5  506.9844             EU\n",
       "6  441.1899             EU"
      ]
     },
     "execution_count": 22,
     "metadata": {},
     "output_type": "execute_result"
    }
   ],
   "source": [
    "df = pisa[pisa[\"Continent_Code\"].isin([\"EU\",\"AS\"])][[\"Math\",\"Continent_Code\"]]\n",
    "df.head()"
   ]
  },
  {
   "cell_type": "code",
   "execution_count": 23,
   "id": "1a346551-4b85-4ff1-b78f-0e2808f83645",
   "metadata": {},
   "outputs": [
    {
     "data": {
      "image/png": "[encoded data removed]",
      "text/plain": [
       "<Figure size 576x432 with 1 Axes>"
      ]
     },
     "metadata": {
      "needs_background": "light"
     },
     "output_type": "display_data"
    }
   ],
   "source": [
    "plt.figure(figsize = (8,6))\n",
    "sns.boxplot(y= df.Math, x = df.Continent_Code);"
   ]
  },
  {
   "cell_type": "code",
   "execution_count": 24,
   "id": "bd6bdd2a-680e-4cf6-b2d6-208e988b0352",
   "metadata": {},
   "outputs": [
    {
     "data": {
      "text/plain": [
       "Ttest_indResult(statistic=0.8700553179679787, pvalue=0.38826888111307556)"
      ]
     },
     "execution_count": 24,
     "metadata": {},
     "output_type": "execute_result"
    }
   ],
   "source": [
    "\n",
    "# *********************************if nan values need to be dropped*************\n",
    "\n",
    "stats.ttest_ind_from_stats(mean1=pisa[pisa[\"Continent_Code\"] == \"EU\"][\"Math\"].mean(),\n",
    "                           mean2=pisa[pisa[\"Continent_Code\"] == \"AS\"][\"Math\"].mean(),\n",
    "                           alternative=\"two-sided\",\n",
    "                           std1=pisa[pisa[\"Continent_Code\"] == \"EU\"][\"Math\"].std(),\n",
    "                           std2=pisa[pisa[\"Continent_Code\"] == \"AS\"][\"Math\"].std(),\n",
    "                           nobs2=pisa[pisa[\"Continent_Code\"] == \"AS\"][\"Math\"].count(),\n",
    "                           nobs1=pisa[pisa[\"Continent_Code\"] == \"EU\"][\"Math\"].count())"
   ]
  },
  {
   "cell_type": "code",
   "execution_count": 25,
   "id": "a7dd3e02-8f85-4e7c-87b1-a7392747575c",
   "metadata": {},
   "outputs": [
    {
     "data": {
      "text/plain": [
       "Ttest_indResult(statistic=0.8700553179679789, pvalue=0.38826888111307556)"
      ]
     },
     "execution_count": 25,
     "metadata": {},
     "output_type": "execute_result"
    }
   ],
   "source": [
    "Indtest = stats.ttest_ind(a =pisa[pisa[\"Continent_Code\"] == \"EU\"][\"Math\"],b=pisa[pisa[\"Continent_Code\"] == \"AS\"][\"Math\"],nan_policy=\"omit\",alternative=\"two-sided\")\n",
    "Indtest"
   ]
  },
  {
   "cell_type": "code",
   "execution_count": 26,
   "id": "d42c94c8-9f9c-4e6d-9ffe-37a2181a6e9b",
   "metadata": {},
   "outputs": [],
   "source": [
    "tstat, pvalue= Indtest[0],Indtest[1]"
   ]
  },
  {
   "cell_type": "code",
   "execution_count": 27,
   "id": "1bb70bd9-35c3-4095-b29c-769cd9456a87",
   "metadata": {},
   "outputs": [
    {
     "name": "stdout",
     "output_type": "stream",
     "text": [
      "H0 can not be rejected\n"
     ]
    }
   ],
   "source": [
    "if pvalue>alpha : print(\"H0 can not be rejected\")\n",
    "else:print(\"H0 is can be rejected\")"
   ]
  },
  {
   "cell_type": "markdown",
   "id": "b4f576dc-b044-48f8-a00b-a2c5737ff581",
   "metadata": {},
   "source": [
    "##### There is significantly  difference between Math scores of Asian and European students"
   ]
  },
  {
   "cell_type": "code",
   "execution_count": null,
   "id": "17c3574a-4cd1-41f5-bf0c-96670b36b70c",
   "metadata": {},
   "outputs": [],
   "source": []
  }
 ],
 "metadata": {
  "kernelspec": {
   "display_name": "Python 3 (ipykernel)",
   "language": "python",
   "name": "python3"
  },
  "language_info": {
   "codemirror_mode": {
    "name": "ipython",
    "version": 3
   },
   "file_extension": ".py",
   "mimetype": "text/x-python",
   "name": "python",
   "nbconvert_exporter": "python",
   "pygments_lexer": "ipython3",
   "version": "3.10.5"
  }
 },
 "nbformat": 4,
 "nbformat_minor": 5
}
